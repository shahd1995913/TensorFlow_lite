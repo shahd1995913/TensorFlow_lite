{
  "cells": [
    {
      "cell_type": "markdown",
      "metadata": {
        "id": "view-in-github",
        "colab_type": "text"
      },
      "source": [
        "<a href=\"https://colab.research.google.com/github/shahd1995913/TensorFlow_lite/blob/main/tflite_c01_linear_regression.ipynb\" target=\"_parent\"><img src=\"https://colab.research.google.com/assets/colab-badge.svg\" alt=\"Open In Colab\"/></a>"
      ]
    },
    {
      "cell_type": "markdown",
      "metadata": {
        "id": "Za8-Nr5k11fh"
      },
      "source": [
        "##### Copyright 2018 The TensorFlow Authors."
      ]
    },
    {
      "cell_type": "code",
      "execution_count": null,
      "metadata": {
        "cellView": "form",
        "id": "Eq10uEbw0E4l"
      },
      "outputs": [],
      "source": [
        "#@title Licensed under the Apache License, Version 2.0 (the \"License\");\n",
        "# you may not use this file except in compliance with the License.\n",
        "# You may obtain a copy of the License at\n",
        "#\n",
        "# https://www.apache.org/licenses/LICENSE-2.0\n",
        "#\n",
        "# Unless required by applicable law or agreed to in writing, software\n",
        "# distributed under the License is distributed on an \"AS IS\" BASIS,\n",
        "# WITHOUT WARRANTIES OR CONDITIONS OF ANY KIND, either express or implied.\n",
        "# See the License for the specific language governing permissions and\n",
        "# limitations under the License."
      ]
    },
    {
      "cell_type": "markdown",
      "metadata": {
        "id": "UysiGN3tGQHY"
      },
      "source": [
        "# Running TFLite models"
      ]
    },
    {
      "cell_type": "markdown",
      "metadata": {
        "id": "2hOrvdmswy5O"
      },
      "source": [
        "<table class=\"tfo-notebook-buttons\" align=\"left\">\n",
        "  <td>\n",
        "    <a target=\"_blank\" href=\"https://colab.research.google.com/github/tensorflow/examples/blob/master/courses/udacity_intro_to_tensorflow_lite/tflite_c01_linear_regression.ipynb\">\n",
        "    <img src=\"https://www.tensorflow.org/images/colab_logo_32px.png\" />\n",
        "    Run in Google Colab</a>\n",
        "  </td>\n",
        "  <td>\n",
        "    <a target=\"_blank\" href=\"https://github.com/tensorflow/examples/blob/master/courses/udacity_intro_to_tensorflow_lite/tflite_c01_linear_regression.ipynb\">\n",
        "    <img src=\"https://www.tensorflow.org/images/GitHub-Mark-32px.png\" />\n",
        "    View source on GitHub</a>\n",
        "  </td>\n",
        "</table>"
      ]
    },
    {
      "cell_type": "markdown",
      "metadata": {
        "id": "W-VhTkyTGcaQ"
      },
      "source": [
        "## Setup"
      ]
    },
    {
      "cell_type": "code",
      "execution_count": 1,
      "metadata": {
        "id": "dy4BcTjBFTWx"
      },
      "outputs": [],
      "source": [
        "import tensorflow as tf\n",
        "\n",
        "import pathlib\n",
        "import numpy as np\n",
        "import matplotlib.pyplot as plt\n",
        "\n",
        "from tensorflow.keras.models import Model\n",
        "from tensorflow.keras.layers import Input"
      ]
    },
    {
      "cell_type": "markdown",
      "metadata": {
        "id": "ceibQLDeGhI4"
      },
      "source": [
        "## Create a basic model of the form y = mx + c"
      ]
    },
    {
      "cell_type": "code",
      "execution_count": 2,
      "metadata": {
        "id": "YIBCsjQNF46Z",
        "outputId": "73c149ca-5e83-4043-ddaf-6c7894b6187c",
        "colab": {
          "base_uri": "https://localhost:8080/"
        }
      },
      "outputs": [
        {
          "output_type": "stream",
          "name": "stdout",
          "text": [
            "Epoch 1/200\n",
            "1/1 [==============================] - 3s 3s/step - loss: 6.4291\n",
            "Epoch 2/200\n",
            "1/1 [==============================] - 0s 5ms/step - loss: 5.2442\n",
            "Epoch 3/200\n",
            "1/1 [==============================] - 0s 8ms/step - loss: 4.3082\n",
            "Epoch 4/200\n",
            "1/1 [==============================] - 0s 8ms/step - loss: 3.5680\n",
            "Epoch 5/200\n",
            "1/1 [==============================] - 0s 5ms/step - loss: 2.9820\n",
            "Epoch 6/200\n",
            "1/1 [==============================] - 0s 7ms/step - loss: 2.5174\n",
            "Epoch 7/200\n",
            "1/1 [==============================] - 0s 12ms/step - loss: 2.1484\n",
            "Epoch 8/200\n",
            "1/1 [==============================] - 0s 8ms/step - loss: 1.8546\n",
            "Epoch 9/200\n",
            "1/1 [==============================] - 0s 5ms/step - loss: 1.6200\n",
            "Epoch 10/200\n",
            "1/1 [==============================] - 0s 5ms/step - loss: 1.4322\n",
            "Epoch 11/200\n",
            "1/1 [==============================] - 0s 6ms/step - loss: 1.2812\n",
            "Epoch 12/200\n",
            "1/1 [==============================] - 0s 6ms/step - loss: 1.1592\n",
            "Epoch 13/200\n",
            "1/1 [==============================] - 0s 5ms/step - loss: 1.0602\n",
            "Epoch 14/200\n",
            "1/1 [==============================] - 0s 5ms/step - loss: 0.9792\n",
            "Epoch 15/200\n",
            "1/1 [==============================] - 0s 7ms/step - loss: 0.9125\n",
            "Epoch 16/200\n",
            "1/1 [==============================] - 0s 10ms/step - loss: 0.8571\n",
            "Epoch 17/200\n",
            "1/1 [==============================] - 0s 4ms/step - loss: 0.8106\n",
            "Epoch 18/200\n",
            "1/1 [==============================] - 0s 11ms/step - loss: 0.7713\n",
            "Epoch 19/200\n",
            "1/1 [==============================] - 0s 5ms/step - loss: 0.7376\n",
            "Epoch 20/200\n",
            "1/1 [==============================] - 0s 5ms/step - loss: 0.7084\n",
            "Epoch 21/200\n",
            "1/1 [==============================] - 0s 5ms/step - loss: 0.6828\n",
            "Epoch 22/200\n",
            "1/1 [==============================] - 0s 4ms/step - loss: 0.6601\n",
            "Epoch 23/200\n",
            "1/1 [==============================] - 0s 7ms/step - loss: 0.6397\n",
            "Epoch 24/200\n",
            "1/1 [==============================] - 0s 9ms/step - loss: 0.6212\n",
            "Epoch 25/200\n",
            "1/1 [==============================] - 0s 6ms/step - loss: 0.6042\n",
            "Epoch 26/200\n",
            "1/1 [==============================] - 0s 5ms/step - loss: 0.5885\n",
            "Epoch 27/200\n",
            "1/1 [==============================] - 0s 8ms/step - loss: 0.5737\n",
            "Epoch 28/200\n",
            "1/1 [==============================] - 0s 7ms/step - loss: 0.5599\n",
            "Epoch 29/200\n",
            "1/1 [==============================] - 0s 5ms/step - loss: 0.5468\n",
            "Epoch 30/200\n",
            "1/1 [==============================] - 0s 8ms/step - loss: 0.5343\n",
            "Epoch 31/200\n",
            "1/1 [==============================] - 0s 8ms/step - loss: 0.5223\n",
            "Epoch 32/200\n",
            "1/1 [==============================] - 0s 7ms/step - loss: 0.5108\n",
            "Epoch 33/200\n",
            "1/1 [==============================] - 0s 5ms/step - loss: 0.4997\n",
            "Epoch 34/200\n",
            "1/1 [==============================] - 0s 5ms/step - loss: 0.4889\n",
            "Epoch 35/200\n",
            "1/1 [==============================] - 0s 5ms/step - loss: 0.4785\n",
            "Epoch 36/200\n",
            "1/1 [==============================] - 0s 7ms/step - loss: 0.4684\n",
            "Epoch 37/200\n",
            "1/1 [==============================] - 0s 5ms/step - loss: 0.4585\n",
            "Epoch 38/200\n",
            "1/1 [==============================] - 0s 6ms/step - loss: 0.4489\n",
            "Epoch 39/200\n",
            "1/1 [==============================] - 0s 5ms/step - loss: 0.4395\n",
            "Epoch 40/200\n",
            "1/1 [==============================] - 0s 8ms/step - loss: 0.4304\n",
            "Epoch 41/200\n",
            "1/1 [==============================] - 0s 5ms/step - loss: 0.4214\n",
            "Epoch 42/200\n",
            "1/1 [==============================] - 0s 5ms/step - loss: 0.4127\n",
            "Epoch 43/200\n",
            "1/1 [==============================] - 0s 5ms/step - loss: 0.4042\n",
            "Epoch 44/200\n",
            "1/1 [==============================] - 0s 5ms/step - loss: 0.3958\n",
            "Epoch 45/200\n",
            "1/1 [==============================] - 0s 5ms/step - loss: 0.3877\n",
            "Epoch 46/200\n",
            "1/1 [==============================] - 0s 10ms/step - loss: 0.3797\n",
            "Epoch 47/200\n",
            "1/1 [==============================] - 0s 7ms/step - loss: 0.3719\n",
            "Epoch 48/200\n",
            "1/1 [==============================] - 0s 9ms/step - loss: 0.3642\n",
            "Epoch 49/200\n",
            "1/1 [==============================] - 0s 4ms/step - loss: 0.3567\n",
            "Epoch 50/200\n",
            "1/1 [==============================] - 0s 10ms/step - loss: 0.3494\n",
            "Epoch 51/200\n",
            "1/1 [==============================] - 0s 6ms/step - loss: 0.3422\n",
            "Epoch 52/200\n",
            "1/1 [==============================] - 0s 5ms/step - loss: 0.3352\n",
            "Epoch 53/200\n",
            "1/1 [==============================] - 0s 5ms/step - loss: 0.3283\n",
            "Epoch 54/200\n",
            "1/1 [==============================] - 0s 5ms/step - loss: 0.3215\n",
            "Epoch 55/200\n",
            "1/1 [==============================] - 0s 6ms/step - loss: 0.3149\n",
            "Epoch 56/200\n",
            "1/1 [==============================] - 0s 5ms/step - loss: 0.3084\n",
            "Epoch 57/200\n",
            "1/1 [==============================] - 0s 5ms/step - loss: 0.3021\n",
            "Epoch 58/200\n",
            "1/1 [==============================] - 0s 10ms/step - loss: 0.2959\n",
            "Epoch 59/200\n",
            "1/1 [==============================] - 0s 5ms/step - loss: 0.2898\n",
            "Epoch 60/200\n",
            "1/1 [==============================] - 0s 8ms/step - loss: 0.2839\n",
            "Epoch 61/200\n",
            "1/1 [==============================] - 0s 8ms/step - loss: 0.2780\n",
            "Epoch 62/200\n",
            "1/1 [==============================] - 0s 5ms/step - loss: 0.2723\n",
            "Epoch 63/200\n",
            "1/1 [==============================] - 0s 5ms/step - loss: 0.2667\n",
            "Epoch 64/200\n",
            "1/1 [==============================] - 0s 8ms/step - loss: 0.2612\n",
            "Epoch 65/200\n",
            "1/1 [==============================] - 0s 10ms/step - loss: 0.2559\n",
            "Epoch 66/200\n",
            "1/1 [==============================] - 0s 9ms/step - loss: 0.2506\n",
            "Epoch 67/200\n",
            "1/1 [==============================] - 0s 11ms/step - loss: 0.2455\n",
            "Epoch 68/200\n",
            "1/1 [==============================] - 0s 7ms/step - loss: 0.2404\n",
            "Epoch 69/200\n",
            "1/1 [==============================] - 0s 7ms/step - loss: 0.2355\n",
            "Epoch 70/200\n",
            "1/1 [==============================] - 0s 8ms/step - loss: 0.2307\n",
            "Epoch 71/200\n",
            "1/1 [==============================] - 0s 5ms/step - loss: 0.2259\n",
            "Epoch 72/200\n",
            "1/1 [==============================] - 0s 6ms/step - loss: 0.2213\n",
            "Epoch 73/200\n",
            "1/1 [==============================] - 0s 5ms/step - loss: 0.2167\n",
            "Epoch 74/200\n",
            "1/1 [==============================] - 0s 7ms/step - loss: 0.2123\n",
            "Epoch 75/200\n",
            "1/1 [==============================] - 0s 5ms/step - loss: 0.2079\n",
            "Epoch 76/200\n",
            "1/1 [==============================] - 0s 5ms/step - loss: 0.2037\n",
            "Epoch 77/200\n",
            "1/1 [==============================] - 0s 5ms/step - loss: 0.1995\n",
            "Epoch 78/200\n",
            "1/1 [==============================] - 0s 5ms/step - loss: 0.1954\n",
            "Epoch 79/200\n",
            "1/1 [==============================] - 0s 6ms/step - loss: 0.1914\n",
            "Epoch 80/200\n",
            "1/1 [==============================] - 0s 7ms/step - loss: 0.1874\n",
            "Epoch 81/200\n",
            "1/1 [==============================] - 0s 5ms/step - loss: 0.1836\n",
            "Epoch 82/200\n",
            "1/1 [==============================] - 0s 7ms/step - loss: 0.1798\n",
            "Epoch 83/200\n",
            "1/1 [==============================] - 0s 13ms/step - loss: 0.1761\n",
            "Epoch 84/200\n",
            "1/1 [==============================] - 0s 10ms/step - loss: 0.1725\n",
            "Epoch 85/200\n",
            "1/1 [==============================] - 0s 8ms/step - loss: 0.1690\n",
            "Epoch 86/200\n",
            "1/1 [==============================] - 0s 6ms/step - loss: 0.1655\n",
            "Epoch 87/200\n",
            "1/1 [==============================] - 0s 5ms/step - loss: 0.1621\n",
            "Epoch 88/200\n",
            "1/1 [==============================] - 0s 7ms/step - loss: 0.1588\n",
            "Epoch 89/200\n",
            "1/1 [==============================] - 0s 10ms/step - loss: 0.1555\n",
            "Epoch 90/200\n",
            "1/1 [==============================] - 0s 5ms/step - loss: 0.1523\n",
            "Epoch 91/200\n",
            "1/1 [==============================] - 0s 5ms/step - loss: 0.1492\n",
            "Epoch 92/200\n",
            "1/1 [==============================] - 0s 7ms/step - loss: 0.1461\n",
            "Epoch 93/200\n",
            "1/1 [==============================] - 0s 14ms/step - loss: 0.1431\n",
            "Epoch 94/200\n",
            "1/1 [==============================] - 0s 5ms/step - loss: 0.1402\n",
            "Epoch 95/200\n",
            "1/1 [==============================] - 0s 5ms/step - loss: 0.1373\n",
            "Epoch 96/200\n",
            "1/1 [==============================] - 0s 4ms/step - loss: 0.1345\n",
            "Epoch 97/200\n",
            "1/1 [==============================] - 0s 5ms/step - loss: 0.1317\n",
            "Epoch 98/200\n",
            "1/1 [==============================] - 0s 4ms/step - loss: 0.1290\n",
            "Epoch 99/200\n",
            "1/1 [==============================] - 0s 5ms/step - loss: 0.1263\n",
            "Epoch 100/200\n",
            "1/1 [==============================] - 0s 5ms/step - loss: 0.1238\n",
            "Epoch 101/200\n",
            "1/1 [==============================] - 0s 5ms/step - loss: 0.1212\n",
            "Epoch 102/200\n",
            "1/1 [==============================] - 0s 7ms/step - loss: 0.1187\n",
            "Epoch 103/200\n",
            "1/1 [==============================] - 0s 5ms/step - loss: 0.1163\n",
            "Epoch 104/200\n",
            "1/1 [==============================] - 0s 6ms/step - loss: 0.1139\n",
            "Epoch 105/200\n",
            "1/1 [==============================] - 0s 7ms/step - loss: 0.1116\n",
            "Epoch 106/200\n",
            "1/1 [==============================] - 0s 5ms/step - loss: 0.1093\n",
            "Epoch 107/200\n",
            "1/1 [==============================] - 0s 4ms/step - loss: 0.1070\n",
            "Epoch 108/200\n",
            "1/1 [==============================] - 0s 9ms/step - loss: 0.1048\n",
            "Epoch 109/200\n",
            "1/1 [==============================] - 0s 13ms/step - loss: 0.1027\n",
            "Epoch 110/200\n",
            "1/1 [==============================] - 0s 4ms/step - loss: 0.1006\n",
            "Epoch 111/200\n",
            "1/1 [==============================] - 0s 8ms/step - loss: 0.0985\n",
            "Epoch 112/200\n",
            "1/1 [==============================] - 0s 5ms/step - loss: 0.0965\n",
            "Epoch 113/200\n",
            "1/1 [==============================] - 0s 6ms/step - loss: 0.0945\n",
            "Epoch 114/200\n",
            "1/1 [==============================] - 0s 7ms/step - loss: 0.0925\n",
            "Epoch 115/200\n",
            "1/1 [==============================] - 0s 12ms/step - loss: 0.0906\n",
            "Epoch 116/200\n",
            "1/1 [==============================] - 0s 8ms/step - loss: 0.0888\n",
            "Epoch 117/200\n",
            "1/1 [==============================] - 0s 7ms/step - loss: 0.0870\n",
            "Epoch 118/200\n",
            "1/1 [==============================] - 0s 6ms/step - loss: 0.0852\n",
            "Epoch 119/200\n",
            "1/1 [==============================] - 0s 7ms/step - loss: 0.0834\n",
            "Epoch 120/200\n",
            "1/1 [==============================] - 0s 5ms/step - loss: 0.0817\n",
            "Epoch 121/200\n",
            "1/1 [==============================] - 0s 7ms/step - loss: 0.0800\n",
            "Epoch 122/200\n",
            "1/1 [==============================] - 0s 5ms/step - loss: 0.0784\n",
            "Epoch 123/200\n",
            "1/1 [==============================] - 0s 5ms/step - loss: 0.0768\n",
            "Epoch 124/200\n",
            "1/1 [==============================] - 0s 10ms/step - loss: 0.0752\n",
            "Epoch 125/200\n",
            "1/1 [==============================] - 0s 9ms/step - loss: 0.0737\n",
            "Epoch 126/200\n",
            "1/1 [==============================] - 0s 5ms/step - loss: 0.0721\n",
            "Epoch 127/200\n",
            "1/1 [==============================] - 0s 4ms/step - loss: 0.0707\n",
            "Epoch 128/200\n",
            "1/1 [==============================] - 0s 5ms/step - loss: 0.0692\n",
            "Epoch 129/200\n",
            "1/1 [==============================] - 0s 5ms/step - loss: 0.0678\n",
            "Epoch 130/200\n",
            "1/1 [==============================] - 0s 5ms/step - loss: 0.0664\n",
            "Epoch 131/200\n",
            "1/1 [==============================] - 0s 8ms/step - loss: 0.0650\n",
            "Epoch 132/200\n",
            "1/1 [==============================] - 0s 9ms/step - loss: 0.0637\n",
            "Epoch 133/200\n",
            "1/1 [==============================] - 0s 10ms/step - loss: 0.0624\n",
            "Epoch 134/200\n",
            "1/1 [==============================] - 0s 22ms/step - loss: 0.0611\n",
            "Epoch 135/200\n",
            "1/1 [==============================] - 0s 27ms/step - loss: 0.0599\n",
            "Epoch 136/200\n",
            "1/1 [==============================] - 0s 25ms/step - loss: 0.0586\n",
            "Epoch 137/200\n",
            "1/1 [==============================] - 0s 23ms/step - loss: 0.0574\n",
            "Epoch 138/200\n",
            "1/1 [==============================] - 0s 21ms/step - loss: 0.0562\n",
            "Epoch 139/200\n",
            "1/1 [==============================] - 0s 9ms/step - loss: 0.0551\n",
            "Epoch 140/200\n",
            "1/1 [==============================] - 0s 17ms/step - loss: 0.0540\n",
            "Epoch 141/200\n",
            "1/1 [==============================] - 0s 5ms/step - loss: 0.0528\n",
            "Epoch 142/200\n",
            "1/1 [==============================] - 0s 7ms/step - loss: 0.0518\n",
            "Epoch 143/200\n",
            "1/1 [==============================] - 0s 8ms/step - loss: 0.0507\n",
            "Epoch 144/200\n",
            "1/1 [==============================] - 0s 5ms/step - loss: 0.0497\n",
            "Epoch 145/200\n",
            "1/1 [==============================] - 0s 7ms/step - loss: 0.0486\n",
            "Epoch 146/200\n",
            "1/1 [==============================] - 0s 5ms/step - loss: 0.0476\n",
            "Epoch 147/200\n",
            "1/1 [==============================] - 0s 5ms/step - loss: 0.0467\n",
            "Epoch 148/200\n",
            "1/1 [==============================] - 0s 11ms/step - loss: 0.0457\n",
            "Epoch 149/200\n",
            "1/1 [==============================] - 0s 8ms/step - loss: 0.0448\n",
            "Epoch 150/200\n",
            "1/1 [==============================] - 0s 8ms/step - loss: 0.0438\n",
            "Epoch 151/200\n",
            "1/1 [==============================] - 0s 6ms/step - loss: 0.0429\n",
            "Epoch 152/200\n",
            "1/1 [==============================] - 0s 7ms/step - loss: 0.0421\n",
            "Epoch 153/200\n",
            "1/1 [==============================] - 0s 10ms/step - loss: 0.0412\n",
            "Epoch 154/200\n",
            "1/1 [==============================] - 0s 5ms/step - loss: 0.0403\n",
            "Epoch 155/200\n",
            "1/1 [==============================] - 0s 4ms/step - loss: 0.0395\n",
            "Epoch 156/200\n",
            "1/1 [==============================] - 0s 5ms/step - loss: 0.0387\n",
            "Epoch 157/200\n",
            "1/1 [==============================] - 0s 35ms/step - loss: 0.0379\n",
            "Epoch 158/200\n",
            "1/1 [==============================] - 0s 22ms/step - loss: 0.0371\n",
            "Epoch 159/200\n",
            "1/1 [==============================] - 0s 32ms/step - loss: 0.0364\n",
            "Epoch 160/200\n",
            "1/1 [==============================] - 0s 21ms/step - loss: 0.0356\n",
            "Epoch 161/200\n",
            "1/1 [==============================] - 0s 29ms/step - loss: 0.0349\n",
            "Epoch 162/200\n",
            "1/1 [==============================] - 0s 6ms/step - loss: 0.0342\n",
            "Epoch 163/200\n",
            "1/1 [==============================] - 0s 5ms/step - loss: 0.0335\n",
            "Epoch 164/200\n",
            "1/1 [==============================] - 0s 5ms/step - loss: 0.0328\n",
            "Epoch 165/200\n",
            "1/1 [==============================] - 0s 5ms/step - loss: 0.0321\n",
            "Epoch 166/200\n",
            "1/1 [==============================] - 0s 4ms/step - loss: 0.0315\n",
            "Epoch 167/200\n",
            "1/1 [==============================] - 0s 8ms/step - loss: 0.0308\n",
            "Epoch 168/200\n",
            "1/1 [==============================] - 0s 5ms/step - loss: 0.0302\n",
            "Epoch 169/200\n",
            "1/1 [==============================] - 0s 9ms/step - loss: 0.0296\n",
            "Epoch 170/200\n",
            "1/1 [==============================] - 0s 5ms/step - loss: 0.0289\n",
            "Epoch 171/200\n",
            "1/1 [==============================] - 0s 4ms/step - loss: 0.0284\n",
            "Epoch 172/200\n",
            "1/1 [==============================] - 0s 4ms/step - loss: 0.0278\n",
            "Epoch 173/200\n",
            "1/1 [==============================] - 0s 5ms/step - loss: 0.0272\n",
            "Epoch 174/200\n",
            "1/1 [==============================] - 0s 5ms/step - loss: 0.0266\n",
            "Epoch 175/200\n",
            "1/1 [==============================] - 0s 4ms/step - loss: 0.0261\n",
            "Epoch 176/200\n",
            "1/1 [==============================] - 0s 5ms/step - loss: 0.0256\n",
            "Epoch 177/200\n",
            "1/1 [==============================] - 0s 12ms/step - loss: 0.0250\n",
            "Epoch 178/200\n",
            "1/1 [==============================] - 0s 8ms/step - loss: 0.0245\n",
            "Epoch 179/200\n",
            "1/1 [==============================] - 0s 5ms/step - loss: 0.0240\n",
            "Epoch 180/200\n",
            "1/1 [==============================] - 0s 36ms/step - loss: 0.0235\n",
            "Epoch 181/200\n",
            "1/1 [==============================] - 0s 34ms/step - loss: 0.0230\n",
            "Epoch 182/200\n",
            "1/1 [==============================] - 0s 30ms/step - loss: 0.0226\n",
            "Epoch 183/200\n",
            "1/1 [==============================] - 0s 27ms/step - loss: 0.0221\n",
            "Epoch 184/200\n",
            "1/1 [==============================] - 0s 18ms/step - loss: 0.0216\n",
            "Epoch 185/200\n",
            "1/1 [==============================] - 0s 26ms/step - loss: 0.0212\n",
            "Epoch 186/200\n",
            "1/1 [==============================] - 0s 5ms/step - loss: 0.0208\n",
            "Epoch 187/200\n",
            "1/1 [==============================] - 0s 5ms/step - loss: 0.0203\n",
            "Epoch 188/200\n",
            "1/1 [==============================] - 0s 11ms/step - loss: 0.0199\n",
            "Epoch 189/200\n",
            "1/1 [==============================] - 0s 5ms/step - loss: 0.0195\n",
            "Epoch 190/200\n",
            "1/1 [==============================] - 0s 5ms/step - loss: 0.0191\n",
            "Epoch 191/200\n",
            "1/1 [==============================] - 0s 4ms/step - loss: 0.0187\n",
            "Epoch 192/200\n",
            "1/1 [==============================] - 0s 5ms/step - loss: 0.0183\n",
            "Epoch 193/200\n",
            "1/1 [==============================] - 0s 5ms/step - loss: 0.0180\n",
            "Epoch 194/200\n",
            "1/1 [==============================] - 0s 6ms/step - loss: 0.0176\n",
            "Epoch 195/200\n",
            "1/1 [==============================] - 0s 7ms/step - loss: 0.0172\n",
            "Epoch 196/200\n",
            "1/1 [==============================] - 0s 8ms/step - loss: 0.0169\n",
            "Epoch 197/200\n",
            "1/1 [==============================] - 0s 5ms/step - loss: 0.0165\n",
            "Epoch 198/200\n",
            "1/1 [==============================] - 0s 5ms/step - loss: 0.0162\n",
            "Epoch 199/200\n",
            "1/1 [==============================] - 0s 5ms/step - loss: 0.0159\n",
            "Epoch 200/200\n",
            "1/1 [==============================] - 0s 9ms/step - loss: 0.0155\n"
          ]
        },
        {
          "output_type": "execute_result",
          "data": {
            "text/plain": [
              "<keras.callbacks.History at 0x7f64106b9810>"
            ]
          },
          "metadata": {},
          "execution_count": 2
        }
      ],
      "source": [
        "# Create a simple Keras model.\n",
        "x = [-1, 0, 1, 2, 3, 4]\n",
        "y = [-3, -1, 1, 3, 5, 7]\n",
        "\n",
        "model = tf.keras.models.Sequential([\n",
        "    tf.keras.layers.Dense(units=1, input_shape=[1])\n",
        "])\n",
        "model.compile(optimizer='sgd', loss='mean_squared_error')\n",
        "model.fit(x, y, epochs=200, verbose=1)"
      ]
    },
    {
      "cell_type": "markdown",
      "metadata": {
        "id": "EjsB-QICGt6L"
      },
      "source": [
        "## Generate a SavedModel"
      ]
    },
    {
      "cell_type": "code",
      "execution_count": 3,
      "metadata": {
        "id": "a9xcbK7QHOfm",
        "outputId": "ab38579f-0e77-4464-a591-99355862c4bc",
        "colab": {
          "base_uri": "https://localhost:8080/"
        }
      },
      "outputs": [
        {
          "output_type": "stream",
          "name": "stdout",
          "text": [
            "INFO:tensorflow:Assets written to: saved_model/1/assets\n"
          ]
        }
      ],
      "source": [
        "export_dir = 'saved_model/1'\n",
        "tf.saved_model.save(model, export_dir)"
      ]
    },
    {
      "cell_type": "markdown",
      "metadata": {
        "id": "RRtsNwkiGxcO"
      },
      "source": [
        "## Convert the SavedModel to TFLite"
      ]
    },
    {
      "cell_type": "code",
      "execution_count": 4,
      "metadata": {
        "id": "TtM8yKTVTpD3",
        "outputId": "f5293bd9-c565-4329-e02d-479667e44f88",
        "colab": {
          "base_uri": "https://localhost:8080/"
        }
      },
      "outputs": [
        {
          "output_type": "stream",
          "name": "stderr",
          "text": [
            "WARNING:absl:Buffer deduplication procedure will be skipped when flatbuffer library is not properly loaded\n"
          ]
        }
      ],
      "source": [
        "# Convert the model.\n",
        "converter = tf.lite.TFLiteConverter.from_saved_model(export_dir)\n",
        "tflite_model = converter.convert()"
      ]
    },
    {
      "cell_type": "code",
      "execution_count": 5,
      "metadata": {
        "id": "4idYulcNHTdO",
        "outputId": "dbd53c2f-5929-4793-8140-ffa635cfafe1",
        "colab": {
          "base_uri": "https://localhost:8080/"
        }
      },
      "outputs": [
        {
          "output_type": "execute_result",
          "data": {
            "text/plain": [
              "888"
            ]
          },
          "metadata": {},
          "execution_count": 5
        }
      ],
      "source": [
        "tflite_model_file = pathlib.Path('model.tflite')\n",
        "tflite_model_file.write_bytes(tflite_model)"
      ]
    },
    {
      "cell_type": "markdown",
      "metadata": {
        "id": "HgGvp2yBG25Q"
      },
      "source": [
        "## Initialize the TFLite interpreter to try it out"
      ]
    },
    {
      "cell_type": "code",
      "execution_count": 6,
      "metadata": {
        "id": "DOt94wIWF8m7"
      },
      "outputs": [],
      "source": [
        "# Load TFLite model and allocate tensors.\n",
        "interpreter = tf.lite.Interpreter(model_content=tflite_model)\n",
        "interpreter.allocate_tensors()\n",
        "\n",
        "# Get input and output tensors.\n",
        "input_details = interpreter.get_input_details()\n",
        "output_details = interpreter.get_output_details()"
      ]
    },
    {
      "cell_type": "code",
      "execution_count": 7,
      "metadata": {
        "id": "JGYkEK08F8qK"
      },
      "outputs": [],
      "source": [
        "# Test the TensorFlow Lite model on random input data.\n",
        "input_shape = input_details[0]['shape']\n",
        "inputs, outputs = [], []\n",
        "for _ in range(100):\n",
        "  input_data = np.array(np.random.random_sample(input_shape), dtype=np.float32)\n",
        "  interpreter.set_tensor(input_details[0]['index'], input_data)\n",
        "\n",
        "  interpreter.invoke()\n",
        "  tflite_results = interpreter.get_tensor(output_details[0]['index'])\n",
        "\n",
        "  # Test the TensorFlow model on random input data.\n",
        "  tf_results = model(tf.constant(input_data))\n",
        "  output_data = np.array(tf_results)\n",
        "  \n",
        "  inputs.append(input_data[0][0])\n",
        "  outputs.append(output_data[0][0])"
      ]
    },
    {
      "cell_type": "markdown",
      "metadata": {
        "id": "t1gQGH1KWAgW"
      },
      "source": [
        "## Visualize the model"
      ]
    },
    {
      "cell_type": "code",
      "execution_count": 8,
      "metadata": {
        "id": "ccvQ1mEJVrqo",
        "outputId": "d6dfab4b-4b54-43c2-8944-691e89a7aabd",
        "colab": {
          "base_uri": "https://localhost:8080/",
          "height": 265
        }
      },
      "outputs": [
        {
          "output_type": "display_data",
          "data": {
            "image/png": "[encoded data removed]",
            "text/plain": [
              "<Figure size 432x288 with 1 Axes>"
            ]
          },
          "metadata": {
            "needs_background": "light"
          }
        }
      ],
      "source": [
        "plt.plot(inputs, outputs, 'r')\n",
        "plt.show()"
      ]
    },
    {
      "cell_type": "markdown",
      "metadata": {
        "id": "WbugMH6yKvtd"
      },
      "source": [
        "## Download the TFLite model file"
      ]
    },
    {
      "cell_type": "code",
      "execution_count": 9,
      "metadata": {
        "id": "FOAIMETeJmkc",
        "outputId": "6e2bc70c-6510-41bc-8861-63c42ba339d5",
        "colab": {
          "base_uri": "https://localhost:8080/",
          "height": 17
        }
      },
      "outputs": [
        {
          "output_type": "display_data",
          "data": {
            "application/javascript": [
              "\n",
              "    async function download(id, filename, size) {\n",
              "      if (!google.colab.kernel.accessAllowed) {\n",
              "        return;\n",
              "      }\n",
              "      const div = document.createElement('div');\n",
              "      const label = document.createElement('label');\n",
              "      label.textContent = `Downloading \"${filename}\": `;\n",
              "      div.appendChild(label);\n",
              "      const progress = document.createElement('progress');\n",
              "      progress.max = size;\n",
              "      div.appendChild(progress);\n",
              "      document.body.appendChild(div);\n",
              "\n",
              "      const buffers = [];\n",
              "      let downloaded = 0;\n",
              "\n",
              "      const channel = await google.colab.kernel.comms.open(id);\n",
              "      // Send a message to notify the kernel that we're ready.\n",
              "      channel.send({})\n",
              "\n",
              "      for await (const message of channel.messages) {\n",
              "        // Send a message to notify the kernel that we're ready.\n",
              "        channel.send({})\n",
              "        if (message.buffers) {\n",
              "          for (const buffer of message.buffers) {\n",
              "            buffers.push(buffer);\n",
              "            downloaded += buffer.byteLength;\n",
              "            progress.value = downloaded;\n",
              "          }\n",
              "        }\n",
              "      }\n",
              "      const blob = new Blob(buffers, {type: 'application/binary'});\n",
              "      const a = document.createElement('a');\n",
              "      a.href = window.URL.createObjectURL(blob);\n",
              "      a.download = filename;\n",
              "      div.appendChild(a);\n",
              "      a.click();\n",
              "      div.remove();\n",
              "    }\n",
              "  "
            ],
            "text/plain": [
              "<IPython.core.display.Javascript object>"
            ]
          },
          "metadata": {}
        },
        {
          "output_type": "display_data",
          "data": {
            "application/javascript": [
              "download(\"download_6bee7e3f-5437-4303-9c8d-c3c16db43486\", \"model.tflite\", 888)"
            ],
            "text/plain": [
              "<IPython.core.display.Javascript object>"
            ]
          },
          "metadata": {}
        }
      ],
      "source": [
        "try:\n",
        "  from google.colab import files\n",
        "  files.download(tflite_model_file)\n",
        "except:\n",
        "  pass"
      ]
    }
  ],
  "metadata": {
    "accelerator": "GPU",
    "colab": {
      "collapsed_sections": [],
      "name": "tflite_c01_linear_regression.ipynb",
      "provenance": [],
      "include_colab_link": true
    },
    "kernelspec": {
      "display_name": "Python 3",
      "name": "python3"
    }
  },
  "nbformat": 4,
  "nbformat_minor": 0
}